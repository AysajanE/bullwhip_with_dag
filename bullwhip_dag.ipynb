{
 "cells": [
  {
   "cell_type": "code",
   "execution_count": 1,
   "id": "bae888ae-a76b-4cfe-9edc-9b98845d44f7",
   "metadata": {},
   "outputs": [],
   "source": [
    "import numpy as np\n",
    "import matplotlib.pyplot as plt\n",
    "from numpy import linalg\n",
    "import math\n",
    "from scipy import stats"
   ]
  },
  {
   "cell_type": "code",
   "execution_count": 2,
   "id": "d66a3da5-172a-432b-ac08-f824a269c11f",
   "metadata": {},
   "outputs": [
    {
     "data": {
      "text/plain": [
       "array([ 97.,  97.,  94.,  98., 100.,  99.,  93.,  95., 101.,  93., 100.,\n",
       "       103., 104.,  93.,  97.,  94.,  98.,  94.,  96., 101., 100., 103.,\n",
       "       102.,  96., 103., 104.])"
      ]
     },
     "execution_count": 2,
     "metadata": {},
     "output_type": "execute_result"
    }
   ],
   "source": [
    "# Initial inventory at Retailer, wholesaler, distributor, and manufaturer, assuming manufacturer has unlimited capacity (very high)\n",
    "init_inv = np.array([200, 200, 200])\n",
    "t_horizon = 26\n",
    "consumer_demand = np.random.normal(100, 5, t_horizon) # Normal\n",
    "#consumer_demand = np.random.random(t_horizon) * 100 # Random\n",
    "consumer_demand = np.trunc(consumer_demand)\n",
    "consumer_demand"
   ]
  },
  {
   "cell_type": "code",
   "execution_count": null,
   "id": "fcc20ab2-587b-4ad7-94c9-28c7953a04a6",
   "metadata": {},
   "outputs": [],
   "source": [
    "fig, ax = plt.subplots(figsize=(10, 5))\n",
    "\n",
    "plt.plot(np.arange(1, 27, step=1), consumer_demand)\n",
    "ax.set_xlabel(\"Time\")\n",
    "ax.set_ylabel(\"Order Quantity\")\n",
    "ax.set_title(\"Consumer Demand\")\n",
    "plt.show()"
   ]
  },
  {
   "cell_type": "code",
   "execution_count": null,
   "id": "3876d4cc-3b6b-4aa1-85ce-f3cbda5ad73c",
   "metadata": {},
   "outputs": [],
   "source": [
    "# At time t=1\n",
    "o_t_equals_one_retailer = consumer_demand[0]\n",
    "o_t_equals_one_wholesaler = o_t_equals_one_retailer\n",
    "o_t_equals_one_distributor = o_t_equals_one_wholesaler\n",
    "o_t_equals_one_manufacturer = o_t_equals_one_distributor\n",
    "o_t_equals_one = np.array([o_t_equals_one_retailer, o_t_equals_one_wholesaler, o_t_equals_one_distributor, o_t_equals_one_manufacturer])\n",
    "o_t_equals_one"
   ]
  },
  {
   "cell_type": "code",
   "execution_count": null,
   "id": "e3c9adea-1b4c-4377-a1fc-ff4c8e594162",
   "metadata": {},
   "outputs": [],
   "source": [
    "# Define an order function\n",
    "def order_func1(d_t, d_t_minus_one, o_t_minus_one):\n",
    "    o_t_minus_one_retailer = o_t_minus_one[0]\n",
    "    o_t_minus_one_wholesaler = o_t_minus_one[1]\n",
    "    o_t_minus_one_distributor = o_t_minus_one[2]\n",
    "    \n",
    "    o_t_retailer = d_t + (d_t - d_t_minus_one)\n",
    "    o_t_wholesaler = o_t_retailer + (o_t_retailer - o_t_minus_one_retailer)\n",
    "    o_t_distributor = o_t_wholesaler + (o_t_wholesaler - o_t_minus_one_wholesaler)\n",
    "    #o_t_manufacturer = o_t_distributor + (o_t_distributor - o_t_minus_one_distributor)\n",
    "    o_t = np.array([o_t_retailer, o_t_wholesaler, o_t_distributor])\n",
    "    \n",
    "    return o_t\n",
    "\n",
    "def order_func2(d_t, d_t_minus_one, o_t_minus_one):\n",
    "    o_t_minus_one_retailer = o_t_minus_one[0]\n",
    "    o_t_minus_one_wholesaler = o_t_minus_one[1]\n",
    "    o_t_minus_one_distributor = o_t_minus_one[2]\n",
    "    \n",
    "    o_t_retailer = (d_t + d_t_minus_one) / 2\n",
    "    o_t_wholesaler = (o_t_retailer + o_t_minus_one_retailer) / 2\n",
    "    o_t_distributor = (o_t_wholesaler + o_t_minus_one_wholesaler) / 2\n",
    "    #o_t_manufacturer = o_t_distributor + (o_t_distributor - o_t_minus_one_distributor)\n",
    "    o_t = np.array([o_t_retailer, o_t_wholesaler, o_t_distributor])\n",
    "    \n",
    "    return o_t\n",
    "\n",
    "def order_func3(d_t):\n",
    "    \n",
    "    o_t_retailer = d_t\n",
    "    o_t_wholesaler = o_t_retailer\n",
    "    o_t_distributor = o_t_wholesaler\n",
    "    #o_t_manufacturer = o_t_distributor + (o_t_distributor - o_t_minus_one_distributor)\n",
    "    o_t = np.array([o_t_retailer, o_t_wholesaler, o_t_distributor])\n",
    "    \n",
    "    return o_t\n",
    "\n",
    "\n",
    "def back_order_func(d_t, v_0):\n",
    "    \n",
    "    o_t_retailer = d_t\n",
    "    o_t_wholesaler = o_t_retailer + np.maximum(0, o_t_retailer - v_0[1])\n",
    "    o_t_distributor = o_t_wholesaler + np.maximum(0, o_t_wholesaler - v_0[2])\n",
    "    #o_t_manufacturer = o_t_distributor + (o_t_distributor - o_t_minus_one_distributor)\n",
    "    o_t = np.array([o_t_retailer, o_t_wholesaler, o_t_distributor])\n",
    "    \n",
    "    return o_t\n",
    "\n",
    "\n",
    "# Define a function to round up to the nearest 10\n",
    "def roundup(x):\n",
    "    return int(math.ceil(x / 10.0)) * 10"
   ]
  },
  {
   "cell_type": "code",
   "execution_count": 4,
   "id": "10c249e5-10c0-4389-9d58-916941085c37",
   "metadata": {},
   "outputs": [
    {
     "data": {
      "text/plain": [
       "5"
      ]
     },
     "execution_count": 4,
     "metadata": {},
     "output_type": "execute_result"
    }
   ],
   "source": [
    "val0 = 0\n",
    "val1 = 5\n",
    "np.maximum(0, 5)"
   ]
  },
  {
   "cell_type": "code",
   "execution_count": null,
   "id": "d7caba82-7b49-41f1-a893-abd8d402411d",
   "metadata": {},
   "outputs": [],
   "source": [
    "print(order_func1(consumer_demand[1], consumer_demand[0], o_t_equals_one))\n",
    "print(order_func2(consumer_demand[1], consumer_demand[0], o_t_equals_one))\n",
    "print(order_func3(consumer_demand[1]))"
   ]
  },
  {
   "cell_type": "code",
   "execution_count": null,
   "id": "f53ecdeb-f6a9-46ba-bbc4-562f2a01f650",
   "metadata": {},
   "outputs": [],
   "source": [
    "consumer_demand"
   ]
  },
  {
   "cell_type": "code",
   "execution_count": null,
   "id": "0e166868-5760-4500-a2c7-81276f3ed8d3",
   "metadata": {},
   "outputs": [],
   "source": [
    "order = np.zeros(3 * t_horizon).reshape((-1, 3)) # order array for each participant over time horizon\n",
    "\n",
    "for t in range(1, consumer_demand.size+1):\n",
    "    if t == 1:\n",
    "        o_t = o_t_equals_one[:3]\n",
    "    else:\n",
    "        #o_t = order_func1(consumer_demand[t-1], consumer_demand[t-2], o_t_minus_one)\n",
    "        o_t = order_func2(consumer_demand[t-1], consumer_demand[t-2], o_t_minus_one)\n",
    "        #o_t = order_func3(consumer_demand[t-1])\n",
    "    o_t = np.maximum(o_t, np.zeros(3))\n",
    "    order[t-1, :] = o_t\n",
    "    o_t_minus_one = o_t    "
   ]
  },
  {
   "cell_type": "code",
   "execution_count": null,
   "id": "b14eb430-bd2a-4afc-bfa7-919da5e820c2",
   "metadata": {},
   "outputs": [],
   "source": [
    "order_including_consumer = np.block([consumer_demand.reshape((-1, 1)), order])"
   ]
  },
  {
   "cell_type": "code",
   "execution_count": null,
   "id": "49563736-c460-44f5-b5b2-172baed19500",
   "metadata": {},
   "outputs": [],
   "source": [
    "order_including_consumer"
   ]
  },
  {
   "cell_type": "code",
   "execution_count": null,
   "id": "aa9633a7-f959-44de-9c60-e1d83f2ecf89",
   "metadata": {},
   "outputs": [],
   "source": [
    "order_min = np.min(order_including_consumer)\n",
    "order_max = np.max(order_including_consumer)\n",
    "\n",
    "order_min = roundup(order_min)\n",
    "order_max = roundup(order_max)\n",
    "\n",
    "order_min, order_max"
   ]
  },
  {
   "cell_type": "code",
   "execution_count": null,
   "id": "8a0e4054-4372-4245-ae25-afb57a066727",
   "metadata": {},
   "outputs": [],
   "source": [
    "fig, ax = plt.subplots(figsize=(10, 10))\n",
    "\n",
    "x_ticks = np.arange(1, t_horizon+1)\n",
    "plt.plot(x_ticks, order_including_consumer[:, 0], label=\"Consumer\")\n",
    "plt.plot(x_ticks, order_including_consumer[:, 1], label=\"Retailer\")\n",
    "plt.plot(x_ticks, order_including_consumer[:, 2], label=\"Wholesaler\")\n",
    "plt.plot(x_ticks, order_including_consumer[:, 3], label=\"Distributor\")\n",
    "ax.set_xlabel(\"Time\")\n",
    "ax.set_ylabel(\"Order Quantity\")\n",
    "plt.legend()\n",
    "plt.show()"
   ]
  },
  {
   "cell_type": "code",
   "execution_count": null,
   "id": "a356f0ae-5c94-4a57-b909-114a1840070b",
   "metadata": {},
   "outputs": [],
   "source": [
    "fig, axs = plt.subplots(2, 2, figsize=(10, 10))\n",
    "\n",
    "axs[0, 0].plot(x_ticks, order_including_consumer[:, 0])\n",
    "axs[0, 0].set_title(\"Consumer Demand\")\n",
    "axs[0, 1].plot(x_ticks, order_including_consumer[:, 1], 'tab:orange')\n",
    "axs[0, 1].set_title(\"Retailer's Order to Wholesaler\")\n",
    "axs[1, 0].plot(x_ticks, order_including_consumer[:, 2], 'tab:green')\n",
    "axs[1, 0].set_title(\"Wholesaler's Order to Distributor\")\n",
    "axs[1, 1].plot(x_ticks, order_including_consumer[:, 3], 'tab:red')\n",
    "axs[1, 1].set_title(\"Distributor's Order to Manufacturer\")\n",
    "\n",
    "for ax in axs.flat:\n",
    "    ax.set(xlabel=\"Time\", ylabel=\"Order Quantity\")\n",
    "    ax.set_ylim(80, order_max)\n",
    "    \n",
    "#plt.suptitle(\"Increasing Variability of Orders up in the Shoe Supply Chain\", fontsize=16, fontweight=\"bold\")\n",
    "plt.suptitle(\"Decreasing Variability of Orders up in the Shoe Supply Chain\", fontsize=16, fontweight=\"bold\")\n",
    "fig.tight_layout()\n",
    "\n",
    "#plt.show()\n",
    "#plt.savefig(\"bullwhip.png\", dpi=150)\n",
    "plt.savefig(\"reverse_bullwhip.png\", dpi=150)"
   ]
  },
  {
   "cell_type": "code",
   "execution_count": null,
   "id": "69c73d1d-f6f9-43a4-92d1-83b335dd87bb",
   "metadata": {},
   "outputs": [],
   "source": [
    "np.std(order_including_consumer, axis=0)"
   ]
  },
  {
   "cell_type": "code",
   "execution_count": null,
   "id": "0aa72429-652e-4fbb-976b-94dc0ec06a46",
   "metadata": {},
   "outputs": [],
   "source": []
  }
 ],
 "metadata": {
  "kernelspec": {
   "display_name": "Python 3",
   "language": "python",
   "name": "python3"
  },
  "language_info": {
   "codemirror_mode": {
    "name": "ipython",
    "version": 3
   },
   "file_extension": ".py",
   "mimetype": "text/x-python",
   "name": "python",
   "nbconvert_exporter": "python",
   "pygments_lexer": "ipython3",
   "version": "3.9.4"
  }
 },
 "nbformat": 4,
 "nbformat_minor": 5
}
